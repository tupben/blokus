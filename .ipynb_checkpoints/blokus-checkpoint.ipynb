{
 "cells": [
  {
   "cell_type": "code",
   "execution_count": 1,
   "metadata": {
    "collapsed": true
   },
   "outputs": [],
   "source": [
    "%matplotlib inline\n",
    "import numpy as np\n",
    "import matplotlib\n",
    "import matplotlib.pyplot as plt\n",
    "from scipy import ndimage\n",
    "\n",
    "##\n",
    "\n",
    "import matplotlib.image as mpimg\n",
    "from pylab import *\n",
    "from numpy.linalg import inv"
   ]
  },
  {
   "cell_type": "code",
   "execution_count": 71,
   "metadata": {
    "collapsed": false
   },
   "outputs": [
    {
     "name": "stdout",
     "output_type": "stream",
     "text": [
      "board:\n"
     ]
    },
    {
     "data": {
      "image/png": "[encoded data removed]",
      "text/plain": [
       "<matplotlib.figure.Figure at 0x1131d5c10>"
      ]
     },
     "metadata": {},
     "output_type": "display_data"
    }
   ],
   "source": [
    "board = np.zeros((20,20,4))\n",
    "board[0,:3,0]=[1]*3\n",
    "board[0,-2,2]=1\n",
    "# board[-1,:3,1]=[1]*3\n",
    "board[:2,-1,2]=[1]*2\n",
    "board[-1,-1,3]=1\n",
    "\n",
    "def print_layer(board):\n",
    "    if len(board.shape) == 3:\n",
    "        for a in range(board.shape[2]):\n",
    "            print board[:,:,a],'\\n'\n",
    "    elif len(board.shape) == 2:\n",
    "        print board\n",
    "\n",
    "def show_layer(board):\n",
    "    dim1,dim2 = board.shape[0],board.shape[1]\n",
    "    if len(board.shape) == 3 and board.shape[2] == 4:\n",
    "        image = np.zeros((dim1,dim2,3))\n",
    "        image[:,:,0]+=board[:,:,0]\n",
    "        image[:,:,1]+=board[:,:,1]\n",
    "        image[:,:,2]+=board[:,:,2]\n",
    "        image[:,:,0]+=board[:,:,3]\n",
    "        image[:,:,1]+=board[:,:,3]\n",
    "    elif len(board.shape) == 3 and board.shape[2] == 1:\n",
    "        image = np.zeros((dim1,dim2,3))\n",
    "        image[:,:,0] += board[:,:,0]\n",
    "        image[:,:,1] += board[:,:,0]\n",
    "        image[:,:,2] += board[:,:,0]\n",
    "    elif len(board.shape) == 2:\n",
    "        image = np.zeros((dim1,dim2,3))\n",
    "        image[:,:,0] += board\n",
    "        image[:,:,1] += board\n",
    "        image[:,:,2] += board\n",
    "    imgplot = plt.imshow(image)\n",
    "    show()\n",
    "    \n",
    "print 'board:'\n",
    "show_layer(board)"
   ]
  },
  {
   "cell_type": "code",
   "execution_count": 88,
   "metadata": {
    "collapsed": false
   },
   "outputs": [],
   "source": [
    "# Takes a piece array (e.g. 3,3,4))\n",
    "# Returns a filter array (e.g. 5,5,4) that can be used to scan a board.\n",
    "\n",
    "def make_filter(piece_array):\n",
    "    color = np.amax(np.argmax(piece_array,axis=2))\n",
    "    piece = np.amax(piece_array,axis=2)\n",
    "        \n",
    "    k = np.zeros((4,3,3))\n",
    "    k[:,1,1]     = -32\n",
    "    k[color,:,:] = -32\n",
    "    k[color,0,2] = 1\n",
    "    k[color,2,0] = 1\n",
    "    k[color,2,2] = 1\n",
    "    \n",
    "    height, width = piece.shape[0], piece.shape[1]\n",
    "    x = np.zeros((height+2,width+2))\n",
    "    x[1:1+height,1:1+width] += piece[:,:]  \n",
    "    height += 2\n",
    "    width  += 2\n",
    "    filter_y,filter_x = k.shape[1],k.shape[2]\n",
    "    new_y     = height - filter_y + 3\n",
    "    new_x     = width  - filter_x  + 3\n",
    "    new_filter = np.zeros((height,width,4))\n",
    "    temp_y    = np.arange(0,new_y)\n",
    "    temp_x    = np.arange(0,new_x)\n",
    "    \n",
    "    padded = np.zeros((height+2,width+2))\n",
    "    padded[1:1+height,1:1+width] += x[:,:]\n",
    "\n",
    "    for d in range(4):\n",
    "        for a in temp_y:\n",
    "            for b in temp_x:\n",
    "                new_filter[a,b,d] = np.sum(padded[a:a+filter_y,b:b+filter_x] * k[d])\n",
    "    return np.minimum(1,np.maximum(-16,new_filter))"
   ]
  },
  {
   "cell_type": "code",
   "execution_count": 89,
   "metadata": {
    "collapsed": false
   },
   "outputs": [
    {
     "name": "stdout",
     "output_type": "stream",
     "text": [
      "blue_piece:\n"
     ]
    },
    {
     "data": {
      "image/png": "[encoded data removed]",
      "text/plain": [
       "<matplotlib.figure.Figure at 0x113a20d10>"
      ]
     },
     "metadata": {},
     "output_type": "display_data"
    },
    {
     "name": "stdout",
     "output_type": "stream",
     "text": [
      "\n",
      "blue_filter:\n"
     ]
    },
    {
     "data": {
      "image/png": "[encoded data removed]",
      "text/plain": [
       "<matplotlib.figure.Figure at 0x1138a3f50>"
      ]
     },
     "metadata": {},
     "output_type": "display_data"
    }
   ],
   "source": [
    "# Running make_filter on a sample piece.\n",
    "\n",
    "blue_piece = np.zeros((3,2,4))\n",
    "blue_piece[:,:,2] = 1\n",
    "blue_piece[0,1,2] = 0\n",
    "\n",
    "print 'blue_piece:'\n",
    "show_layer(blue_piece)\n",
    "blue_filter = make_filter(blue_piece)\n",
    "print '\\nblue_filter:'\n",
    "show_layer(blue_filter)"
   ]
  },
  {
   "cell_type": "code",
   "execution_count": 90,
   "metadata": {
    "collapsed": false
   },
   "outputs": [
    {
     "data": {
      "image/png": "[encoded data removed]",
      "text/plain": [
       "<matplotlib.figure.Figure at 0x112d70790>"
      ]
     },
     "metadata": {},
     "output_type": "display_data"
    },
    {
     "data": {
      "image/png": "[encoded data removed]",
      "text/plain": [
       "<matplotlib.figure.Figure at 0x112d709d0>"
      ]
     },
     "metadata": {},
     "output_type": "display_data"
    },
    {
     "data": {
      "image/png": "[encoded data removed]",
      "text/plain": [
       "<matplotlib.figure.Figure at 0x113cdeed0>"
      ]
     },
     "metadata": {},
     "output_type": "display_data"
    },
    {
     "data": {
      "image/png": "[encoded data removed]",
      "text/plain": [
       "<matplotlib.figure.Figure at 0x1136d5ad0>"
      ]
     },
     "metadata": {},
     "output_type": "display_data"
    },
    {
     "data": {
      "image/png": "[encoded data removed]",
      "text/plain": [
       "<matplotlib.figure.Figure at 0x1132717d0>"
      ]
     },
     "metadata": {},
     "output_type": "display_data"
    }
   ],
   "source": [
    "# Place piece\n",
    "\n",
    "def convolve_board(board, piece, piece_filter):\n",
    "    color = np.amax(np.argmax(piece_filter,axis=2))\n",
    "    height,width = board.shape[0], board.shape[1]\n",
    "    filter_y = piece_filter.shape[0]\n",
    "    filter_x = piece_filter.shape[1]\n",
    "    new_y = height - filter_y + 3\n",
    "    new_x = width  - filter_x + 3\n",
    "    new_board = np.zeros((height,width))\n",
    "    temp_y = np.arange(0,new_y)\n",
    "    temp_x = np.arange(0,new_x)\n",
    "\n",
    "    padded = np.zeros((height+2,width+2,4))\n",
    "    padded[1:1+height,1:1+width,:] += board[:,:,:]\n",
    "    padded[ 0, 0, 0]+=1\n",
    "    padded[-1, 0, 1]+=1\n",
    "    padded[ 0,-1, 2]+=1\n",
    "    padded[-1,-1, 3]+=1\n",
    "\n",
    "    legal_moves = []  \n",
    "    indices = []\n",
    "    for a in temp_y:\n",
    "        for b in temp_x:\n",
    "            if np.sum( padded[a:a+filter_y,b:b+filter_x,:] * piece_filter) >= 1:\n",
    "                legal = np.copy(board)\n",
    "                legal[a:a+filter_y-2,b:b+filter_x-2] += piece\n",
    "                legal_moves.append(legal)\n",
    "#     new_board = np.minimum(1,np.maximum(0,new_board))\n",
    "    return legal_moves\n",
    "    \n",
    "    \n",
    "                \n",
    "\n",
    "show_layer(board)\n",
    "show_layer(blue_piece)\n",
    "convolved = convolve_board(board, blue_piece, blue_filter)\n",
    "\n",
    "for move in convolved:\n",
    "    show_layer(move)"
   ]
  },
  {
   "cell_type": "code",
   "execution_count": null,
   "metadata": {
    "collapsed": true
   },
   "outputs": [],
   "source": []
  },
  {
   "cell_type": "code",
   "execution_count": null,
   "metadata": {
    "collapsed": true
   },
   "outputs": [],
   "source": []
  },
  {
   "cell_type": "code",
   "execution_count": null,
   "metadata": {
    "collapsed": true
   },
   "outputs": [],
   "source": []
  }
 ],
 "metadata": {
  "kernelspec": {
   "display_name": "Python 2",
   "language": "python",
   "name": "python2"
  },
  "language_info": {
   "codemirror_mode": {
    "name": "ipython",
    "version": 2
   },
   "file_extension": ".py",
   "mimetype": "text/x-python",
   "name": "python",
   "nbconvert_exporter": "python",
   "pygments_lexer": "ipython2",
   "version": "2.7.13"
  }
 },
 "nbformat": 4,
 "nbformat_minor": 2
}
